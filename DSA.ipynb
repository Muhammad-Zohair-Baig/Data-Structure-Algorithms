{
  "nbformat": 4,
  "nbformat_minor": 0,
  "metadata": {
    "colab": {
      "provenance": []
    },
    "kernelspec": {
      "name": "python3",
      "display_name": "Python 3"
    },
    "language_info": {
      "name": "python"
    }
  },
  "cells": [
    {
      "cell_type": "code",
      "execution_count": null,
      "metadata": {
        "id": "f2SJpXtPfnyh"
      },
      "outputs": [],
      "source": [
        "# Buble Sort\n",
        "def buble_sort(l):\n",
        "  for i in range(len(l)):\n",
        "    print(l)\n",
        "    for j in range(len(l)-i-1):\n",
        "      if l[j]>l[j+1]:\n",
        "        sp=l[j+1]\n",
        "        l[j+1]=l[j]\n",
        "        l[j]=sp\n",
        "\n",
        "\n",
        "\n",
        "\n",
        "\n",
        "  return(l)\n",
        "  \n"
      ]
    },
    {
      "cell_type": "code",
      "source": [
        "l=[4,6,5,2,1,3]\n",
        "result = buble_sort(l)"
      ],
      "metadata": {
        "colab": {
          "base_uri": "https://localhost:8080/"
        },
        "id": "r0YmmaGLg3XG",
        "outputId": "d09d9786-7e08-499d-d36b-8d5fd24b414a"
      },
      "execution_count": null,
      "outputs": [
        {
          "output_type": "stream",
          "name": "stdout",
          "text": [
            "[4, 6, 5, 2, 1, 3]\n",
            "[4, 5, 2, 1, 3, 6]\n",
            "[4, 2, 1, 3, 5, 6]\n",
            "[2, 1, 3, 4, 5, 6]\n",
            "[1, 2, 3, 4, 5, 6]\n",
            "[1, 2, 3, 4, 5, 6]\n"
          ]
        }
      ]
    },
    {
      "cell_type": "code",
      "source": [
        "result"
      ],
      "metadata": {
        "colab": {
          "base_uri": "https://localhost:8080/"
        },
        "id": "blRt2O-HhGyl",
        "outputId": "3cacd709-ca02-4a0b-8527-f70160018b26"
      },
      "execution_count": null,
      "outputs": [
        {
          "output_type": "execute_result",
          "data": {
            "text/plain": [
              "[1, 2, 3, 4, 5, 6]"
            ]
          },
          "metadata": {},
          "execution_count": 94
        }
      ]
    },
    {
      "cell_type": "code",
      "source": [
        "# Selection Sort\n",
        "def selection_sort(l):\n",
        "  for i in range(len(l)):\n",
        "    min_val = l[i]\n",
        "    min_indise = i\n",
        "    for j in range(i,len(l)):\n",
        "      if l[j]<min_val:\n",
        "        min_val=l[j]\n",
        "        min_indise=j\n",
        "        sp = l[i]\n",
        "        l[i]=l[j]\n",
        "        l[j]=sp\n",
        "      \n",
        "  return l"
      ],
      "metadata": {
        "id": "ZMhHlLi4hbjX"
      },
      "execution_count": null,
      "outputs": []
    },
    {
      "cell_type": "code",
      "source": [
        "l=[4,6,5,2,1,3]\n",
        "result = selection_sort(l)"
      ],
      "metadata": {
        "id": "U8UFHLGNvzNA"
      },
      "execution_count": null,
      "outputs": []
    },
    {
      "cell_type": "code",
      "source": [
        "result"
      ],
      "metadata": {
        "colab": {
          "base_uri": "https://localhost:8080/"
        },
        "id": "UGLWcDe6wunL",
        "outputId": "79d83f0d-9998-4816-e457-acd64831a671"
      },
      "execution_count": null,
      "outputs": [
        {
          "output_type": "execute_result",
          "data": {
            "text/plain": [
              "[1, 2, 3, 4, 5, 6]"
            ]
          },
          "metadata": {},
          "execution_count": 88
        }
      ]
    },
    {
      "cell_type": "code",
      "source": [
        "# Insertion Sort\n",
        "def insertion_sort(l):\n",
        "  for i in range(1,len(l)):\n",
        "    value = l[i]\n",
        "    j=i\n",
        "    while j>0 and l[j-1]>value:\n",
        "      l[j] = l[j-1]\n",
        "      j=j-1\n",
        "  return(l)"
      ],
      "metadata": {
        "id": "yXL_CUL2wv-m"
      },
      "execution_count": null,
      "outputs": []
    },
    {
      "cell_type": "code",
      "source": [
        "result = insertion_sort(l)"
      ],
      "metadata": {
        "id": "-7V_m3ZP4Cma"
      },
      "execution_count": null,
      "outputs": []
    },
    {
      "cell_type": "code",
      "source": [
        "result"
      ],
      "metadata": {
        "colab": {
          "base_uri": "https://localhost:8080/"
        },
        "id": "pM2EOgPZ4ob1",
        "outputId": "0d8e229f-5665-4442-87f3-8d130f2b30fa"
      },
      "execution_count": null,
      "outputs": [
        {
          "output_type": "execute_result",
          "data": {
            "text/plain": [
              "[1, 2, 3, 4, 5, 6]"
            ]
          },
          "metadata": {},
          "execution_count": 100
        }
      ]
    },
    {
      "cell_type": "code",
      "source": [
        "# Merge Sort\n",
        "\n",
        "def merge_sort(lis):\n",
        "    # 1. Store the length of the list\n",
        "    list_length = len(lis)\n",
        "\n",
        "    # 2. List with length less than is already sorted\n",
        "    if list_length == 1:\n",
        "        return lis\n",
        "\n",
        "    # 3. Identify the list midpoint and partition the list into a left_partition and a right_partition\n",
        "    mid_point = list_length // 2\n",
        "\n",
        "    # 4. To ensure all partitions are broken down into their individual components,\n",
        "    # the merge_sort function is called and a partitioned portion of the list is passed as a parameter\n",
        "    left_partition = merge_sort(lis[:mid_point])\n",
        "    right_partition = merge_sort(lis[mid_point:])\n",
        "\n",
        "    # 5. The merge_sort function returns a list composed of a sorted left and right partition.\n",
        "    return merge(left_partition, right_partition)\n",
        "\n",
        "\n",
        "# 6. takes in two lists and returns a sorted list made up of the content within the two lists\n",
        "def merge(left, right):\n",
        "    print(left,right)\n",
        "    # 7. Initialize an empty list output that will be populated with sorted elements.\n",
        "    # Initialize two variables i and j which are used pointers when iterating through the lists.\n",
        "    output = []\n",
        "    i = j = 0\n",
        "\n",
        "    # 8. Executes the while loop if both pointers i and j are less than the length of the left and right lists\n",
        "    while i < len(left) and j < len(right):\n",
        "        # 9. Compare the elements at every position of both lists during each iteration\n",
        "        if left[i] < right[j]:\n",
        "            # output is populated with the lesser value\n",
        "            output.append(left[i])\n",
        "            # 10. Move pointer to the right\n",
        "            i += 1\n",
        "        else:\n",
        "            output.append(right[j])\n",
        "            j += 1\n",
        "    \n",
        "        \n",
        "    # 11. The remnant elements are picked from the current pointer value to the end of the respective list\n",
        "    output.extend(left[i:])\n",
        "    output.extend(right[j:])\n",
        "    print(\"???????\")\n",
        "    print(output)\n",
        "    return output\n",
        "\n",
        "\n",
        "unsorted_list = [4,1,3,2,5]\n",
        "print(unsorted_list)\n",
        "sorted_list = merge_sort(unsorted_list)\n",
        "\n"
      ],
      "metadata": {
        "colab": {
          "base_uri": "https://localhost:8080/"
        },
        "id": "cYFi8Pal4pge",
        "outputId": "1750e901-0321-45ac-f593-29fc303b8a74"
      },
      "execution_count": null,
      "outputs": [
        {
          "output_type": "stream",
          "name": "stdout",
          "text": [
            "[4, 1, 3, 2, 5]\n",
            "[4] [1]\n",
            "???????\n",
            "[1, 4]\n",
            "[2] [5]\n",
            "???????\n",
            "[2, 5]\n",
            "[3] [2, 5]\n",
            "???????\n",
            "[2, 3, 5]\n",
            "[1, 4] [2, 3, 5]\n",
            "???????\n",
            "[1, 2, 3, 4, 5]\n"
          ]
        }
      ]
    },
    {
      "cell_type": "code",
      "source": [
        "def quicksort(arr):\n",
        "    \"\"\" Quicksort a list\n",
        "\n",
        "    :type arr: list\n",
        "    :param arr: List to sort\n",
        "    :returns: list -- Sorted list\n",
        "    \"\"\"\n",
        "    if not arr:\n",
        "        return []\n",
        "\n",
        "    return quicksort([x for x in arr if x < arr[0]]) \\\n",
        "        + [x for x in arr if x == arr[0]] \\\n",
        "        + quicksort([x for x in arr if x > arr[0]])"
      ],
      "metadata": {
        "id": "zDMalDmD-F65"
      },
      "execution_count": null,
      "outputs": []
    },
    {
      "cell_type": "code",
      "source": [
        "quicksort(l)"
      ],
      "metadata": {
        "id": "9ZZ-oZn8LQXv",
        "outputId": "0c61be3c-c4bd-4f00-e2ff-476923d681dc",
        "colab": {
          "base_uri": "https://localhost:8080/"
        }
      },
      "execution_count": null,
      "outputs": [
        {
          "output_type": "execute_result",
          "data": {
            "text/plain": [
              "[1, 2, 3, 4, 5, 6]"
            ]
          },
          "metadata": {},
          "execution_count": 114
        }
      ]
    },
    {
      "cell_type": "code",
      "source": [
        "from re import template\n",
        "# This is what a single node looks like for a link list\n",
        "class Node():\n",
        "  def __init__ (self,value):\n",
        "    self.info = value\n",
        "    self.link = None\n",
        "class SingleLinkedList:\n",
        "  def __init__ (self):\n",
        "    self.start = None\n",
        "  def disply_list(self):\n",
        "    p = self.start\n",
        "    if p==None:\n",
        "      print(\"List is empty\")\n",
        "      return\n",
        "    while p is not None:\n",
        "      print(p.info,end=\" \")\n",
        "      p=p.link\n",
        "  def count_nodes(self):\n",
        "    p = self.start\n",
        "    n=0\n",
        "    while p is not None:\n",
        "      print(p.info,end=\" \")\n",
        "      p=p.link\n",
        "      n=n+1\n",
        "    print(f\"Number of nodes in the list: {n}\")\n",
        "  def search(self,x):\n",
        "    p = self.start\n",
        "    position = 1\n",
        "    while p is not None:\n",
        "      if p.info == x:\n",
        "        print(x, \" is at position \", position)\n",
        "        return(True)\n",
        "      else:\n",
        "        print(x, \"is not in list\")\n",
        "        return(False)\n",
        "    \n",
        "  def insert_in_begining(self,data):\n",
        "      temp = Node(data)\n",
        "      temp.link = self.start\n",
        "      self.start=temp\n",
        "  def insert_at_end(self,data):\n",
        "    temp = Node(data)\n",
        "    if self.start is None:\n",
        "      self.start = temp\n",
        "      return\n",
        "    p=self.start\n",
        "    while p.link is not None:\n",
        "      p=p.link\n",
        "    p.link=temp\n",
        "\n",
        "  def create_list(self):\n",
        "    n = int(input(\"Enter the length of the list: \"))\n",
        "    if n == 0:\n",
        "      return\n",
        "    for i in range(n):\n",
        "      data = int(input(\"Enter the element to be inseted: \"))\n",
        "      self.insert_at_end(data)\n",
        "  def insert_after(self,data,x):\n",
        "    p = self.start\n",
        "    while p is not None:\n",
        "      if p.info == x:\n",
        "        break\n",
        "      p=p.link\n",
        "    if p is None:\n",
        "      print(x, \"Not present in list\")\n",
        "    else:\n",
        "      temp = Node(data)\n",
        "      temp.link = p.link\n",
        "      p.link = temp\n",
        "  def insert_before(self,data,x):\n",
        "    if self.start is None:\n",
        "      print(\"The list is empty\")\n",
        "      return\n",
        "    if x == self.start.info:\n",
        "      temp = Node(data)\n",
        "      temp.link = self.start.info\n",
        "      self.start = temp\n",
        "      return\n",
        "    p = self.start\n",
        "    while p.link is not None:\n",
        "      if p.link.info == x:\n",
        "        break\n",
        "        p=p.link\n",
        "      if p.link is None:\n",
        "        print(x, \" not present in list\")\n",
        "      else:\n",
        "        temp = Node(data)\n",
        "        temp.link = p.link\n",
        "        p.link = temp\n",
        "\n",
        "  def insert_at_position(self,data,k):\n",
        "    if k == 1:\n",
        "      temp = Node(data)\n",
        "      temp.link = self.start\n",
        "      self.start = temp\n",
        "      return\n",
        "    p = self.start\n",
        "    i= 1\n",
        "    while i < k and p is not None:\n",
        "      p = p.link\n",
        "      i = i+1\n",
        "    if p is None:\n",
        "      print(\"you can only insert upto postion, \" ,i)\n",
        "    else:\n",
        "      temp = Node(data)\n",
        "      temp.link  = p.link\n",
        "      p.link = temp\n",
        "  def delete_node(self,x):\n",
        "    pass\n",
        "  def delete_first_node(self):\n",
        "    pass\n",
        "  def delete_last_node(self):\n",
        "    pass\n",
        "  def reverse_list(self):\n",
        "    pass\n",
        "  def bubble_sort_exdata(self):\n",
        "    pass\n",
        "  def buble_sort_exlinks(self):\n",
        "    pass\n",
        "  def has_cycle(self):\n",
        "    pass\n",
        "  def find_cycle(self):\n",
        "    pass\n",
        "  def remove_cycle(self):\n",
        "    pass\n",
        "  def insert_cycle(self):\n",
        "    pass\n",
        "  def merge2(self,list2):\n",
        "    pass\n",
        "  def _merge2(self,p1,p2):\n",
        "    pass\n",
        "  def merge_sort(self):\n",
        "    pass\n",
        "  def _merge_sort_rec(self,listStart):\n",
        "    pass\n",
        "  def _divide_list(self,p):\n",
        "    pass\n",
        "\"************************************************\"\n",
        "lists = SingleLinkedList()\n",
        "lists.create_list()\n",
        "while True:\n",
        "  print(\"1.Display List\")\n",
        "  print(\"2.Count the number of nodes\")\n",
        "  print(\"3.Search the number of nodes\")\n",
        "  print(\"4.Insert in empty list/Insert in the beginning of the list\")\n",
        "  print(\"5.Insert a node at the end of the list\")\n",
        "  print(\"6.Insert a node after a specified node\")\n",
        "  print(\"7.Insert a node before a specified node\")\n",
        "  print(\"8.Insert a node at a given position\")\n",
        "  print(\"9.Delete the first node\")\n",
        "  print(\"10.Delete the last node\")\n",
        "  print(\"11.Delete any node\")\n",
        "  print(\"12.Reverse the list\")\n",
        "  print(\"13.Bubble sort by exchanging data\")\n",
        "  print(\"14.Bubble sort by exchanging links\")\n",
        "  print(\"15.Merge sort\")\n",
        "  print(\"16.Insert cycle\")\n",
        "  print(\"17.Delete cycle\")\n",
        "  print(\"18.Remoe cycle\")\n",
        "  print(\"19.Quit\")\n",
        "  option = int(input(\"Enter your choise: \"))\n",
        "  if  option==1:\n",
        "    lists.disply_list()\n",
        "  if  option==2:\n",
        "    lists.count_nodes()\n",
        "  if  option==3:\n",
        "    data = int(input(\"Enter the element to be searched: \"))\n",
        "    lists.search(data)\n",
        "  if  option==4:\n",
        "    data = int(input(\"Enter the element to be inserted: \"))\n",
        "    lists.insert_in_begining(data)\n",
        "  if  option==5:\n",
        "    data = int(input(\"Enter the element to be inserted: \"))\n",
        "    lists.insert_at_end(data)\n",
        "  if  option==6:\n",
        "    data = int(input(\"Enter the element to be inserted: \"))\n",
        "    x=int(input(\"Enter the element after wich to insert: \"))\n",
        "    lists.insert_after(data,x)\n",
        "  if  option==7:\n",
        "    data = int(input(\"Enter the element to be inserted: \"))\n",
        "    x=int(input(\"Enter the element before wich to insert: \"))\n",
        "    lists.insert_before(data,x)\n",
        "  if  option==8:\n",
        "    data = int(input(\"Enter the element to be inserted: \"))\n",
        "    k=int(input(\"Position where to insert: \"))\n",
        "    lists.insert_before(data,k)\n",
        "  elif option==9:\n",
        "    lists.delete_first_node()\n",
        "  elif option==10:\n",
        "    lists.delete_last_node()\n",
        "  elif option==11:\n",
        "    data = int(input(\"Enter the element to be deleted: \"))\n",
        "    lists.delete_node(data)\n",
        "  elif option==12:\n",
        "    lists.reverse_list()\n",
        "  elif option==13:\n",
        "    lists.bubble_sort_exdata()\n",
        "  elif option==14:\n",
        "    lists.bubble_sort_exlinks()\n",
        "  elif option==15:\n",
        "    lists.merge_sort()\n",
        "  elif option==16:\n",
        "    data = int(input(\"enter the element at which the cycle has to be inserted\"))\n",
        "    lists.insert_cycle(data)\n",
        "  elif option==17:\n",
        "    if lists.has_cycle():\n",
        "      print(\"List has cycle\")\n",
        "    else:\n",
        "      print(\"List has no cycle\")\n",
        "  elif option==18:\n",
        "    list.remove_cycle()\n",
        "  elif option==19:\n",
        "    break\n",
        "  elif option>19:\n",
        "    print(\"Wrong Option\")\n",
        "  print()\n"
      ],
      "metadata": {
        "id": "JxJk_jr3LTA5",
        "colab": {
          "base_uri": "https://localhost:8080/"
        },
        "outputId": "aac55f32-4205-4fc2-b631-d3fe81d07260"
      },
      "execution_count": 6,
      "outputs": [
        {
          "name": "stdout",
          "output_type": "stream",
          "text": [
            "Enter the length of the list: 2\n",
            "Enter the element to be inseted: 1\n",
            "Enter the element to be inseted: 2\n",
            "1.Display List\n",
            "2.Count the number of nodes\n",
            "3.Search the number of nodes\n",
            "4.Insert in empty list/Insert in the beginning of the list\n",
            "5.Insert a node at the end of the list\n",
            "6.Insert a node after a specified node\n",
            "7.Insert a node before a specified node\n",
            "8.Insert a node at a given position\n",
            "9.Delete the first node\n",
            "10.Delete the last node\n",
            "11.Delete any node\n",
            "12.Reverse the list\n",
            "13.Bubble sort by exchanging data\n",
            "14.Bubble sort by exchanging links\n",
            "15.Merge sort\n",
            "16.Insert cycle\n",
            "17.Delete cycle\n",
            "18.Remoe cycle\n",
            "19.Quit\n",
            "Enter your choise: 6\n",
            "Enter the element to be inserted: 3\n",
            "Enter the element after wich to insert: 2\n",
            "1.Display List\n",
            "2.Count the number of nodes\n",
            "3.Search the number of nodes\n",
            "4.Insert in empty list/Insert in the beginning of the list\n",
            "5.Insert a node at the end of the list\n",
            "6.Insert a node after a specified node\n",
            "7.Insert a node before a specified node\n",
            "8.Insert a node at a given position\n",
            "9.Delete the first node\n",
            "10.Delete the last node\n",
            "11.Delete any node\n",
            "12.Reverse the list\n",
            "13.Bubble sort by exchanging data\n",
            "14.Bubble sort by exchanging links\n",
            "15.Merge sort\n",
            "16.Insert cycle\n",
            "17.Delete cycle\n",
            "18.Remoe cycle\n",
            "19.Quit\n",
            "Enter your choise: 1\n",
            "1 2 3 1.Display List\n",
            "2.Count the number of nodes\n",
            "3.Search the number of nodes\n",
            "4.Insert in empty list/Insert in the beginning of the list\n",
            "5.Insert a node at the end of the list\n",
            "6.Insert a node after a specified node\n",
            "7.Insert a node before a specified node\n",
            "8.Insert a node at a given position\n",
            "9.Delete the first node\n",
            "10.Delete the last node\n",
            "11.Delete any node\n",
            "12.Reverse the list\n",
            "13.Bubble sort by exchanging data\n",
            "14.Bubble sort by exchanging links\n",
            "15.Merge sort\n",
            "16.Insert cycle\n",
            "17.Delete cycle\n",
            "18.Remoe cycle\n",
            "19.Quit\n",
            "Enter your choise: 19\n"
          ]
        }
      ]
    },
    {
      "cell_type": "code",
      "source": [
        "1"
      ],
      "metadata": {
        "id": "JA2dl-7WWU-Y"
      },
      "execution_count": null,
      "outputs": []
    }
  ]
}